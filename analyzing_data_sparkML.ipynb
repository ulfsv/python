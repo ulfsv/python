{
 "cells": [
  {
   "cell_type": "markdown",
   "metadata": {},
   "source": [
    "# Beginning Spark\n",
    "\n",
    "We will be analyzing clickstream data to learn how to use Spark.\n",
    "\n",
    "Example:\n",
    "\n",
    "{\"session\": \"session_36\", \"domain\": \"youtube.com\", \"cost\": 118, \"user\": \"user_9\", \"campaign\": \"campaign_19\", \"ip\": \"ip_4\", \"action\": \"clicked\", \"timestamp\": 1420070400000}\n",
    "{\"session\": \"session_96\", \"domain\": \"facebook.com\", \"cost\": 5, \"user\": \"user_5\", \"campaign\": \"campaign_12\", \"ip\": \"ip_3\", \"action\": \"blocked\", \"timestamp\": 1420070400864}\n"
   ]
  },
  {
   "cell_type": "code",
   "execution_count": 25,
   "metadata": {
    "collapsed": false
   },
   "outputs": [],
   "source": [
    "clickstreamDF = spark.read.json(\"../../data/click-stream/clickstream.json\")"
   ]
  },
  {
   "cell_type": "code",
   "execution_count": 26,
   "metadata": {
    "collapsed": false
   },
   "outputs": [
    {
     "name": "stdout",
     "output_type": "stream",
     "text": [
      "root\n",
      " |-- action: string (nullable = true)\n",
      " |-- campaign: string (nullable = true)\n",
      " |-- cost: long (nullable = true)\n",
      " |-- domain: string (nullable = true)\n",
      " |-- ip: string (nullable = true)\n",
      " |-- session: string (nullable = true)\n",
      " |-- timestamp: long (nullable = true)\n",
      " |-- user: string (nullable = true)\n",
      "\n"
     ]
    }
   ],
   "source": [
    "clickstreamDF.printSchema()"
   ]
  },
  {
   "cell_type": "code",
   "execution_count": 27,
   "metadata": {
    "collapsed": false
   },
   "outputs": [
    {
     "name": "stdout",
     "output_type": "stream",
     "text": [
      "+-------+-----------+----+-----------------+----+----------+-------------+------+\n",
      "| action|   campaign|cost|           domain|  ip|   session|    timestamp|  user|\n",
      "+-------+-----------+----+-----------------+----+----------+-------------+------+\n",
      "|clicked|campaign_19| 118|      youtube.com|ip_4|session_36|1420070400000|user_9|\n",
      "|blocked|campaign_12|   5|     facebook.com|ip_3|session_96|1420070400864|user_5|\n",
      "|clicked| campaign_3|  54|sf.craigslist.org|ip_9|session_61|1420070401728|user_8|\n",
      "|blocked|campaign_18| 110|    wikipedia.org|ip_5|session_55|1420070402592|user_6|\n",
      "|clicked| campaign_6|  15|comedycentral.com|ip_9|session_49|1420070403456|user_4|\n",
      "|blocked| campaign_9| 139|          cnn.com|ip_8|session_13|1420070404320|user_7|\n",
      "|blocked| campaign_4| 171|   funnyordie.com|ip_1|session_92|1420070405184|user_9|\n",
      "|blocked|campaign_17|  20|       amazon.com|ip_4|session_13|1420070406048|user_1|\n",
      "|blocked|campaign_20|  78|        zynga.com|ip_5|session_36|1420070406912|user_3|\n",
      "|blocked|campaign_19| 147|      nytimes.com|ip_2|session_65|1420070407776|user_6|\n",
      "| viewed| campaign_5|  50|    wikipedia.org|ip_5|session_10|1420070408640|user_6|\n",
      "|clicked|campaign_16| 141|    wikipedia.org|ip_1|session_57|1420070409504|user_1|\n",
      "| viewed|campaign_19|   0|sf.craigslist.org|ip_9|session_19|1420070410368|user_7|\n",
      "| viewed| campaign_1|  24|        yahoo.com|ip_4|session_60|1420070411232|user_8|\n",
      "|clicked| campaign_5|  74|       sfgate.com|ip_6|session_27|1420070412096|user_3|\n",
      "|blocked| campaign_2|   7|      youtube.com|ip_2|session_93|1420070412960|user_1|\n",
      "|blocked| campaign_9| 153|       google.com|ip_3|session_22|1420070413824|user_9|\n",
      "|blocked| campaign_8| 140|comedycentral.com|ip_8| session_4|1420070414688|user_2|\n",
      "|blocked|campaign_19|  23|       amazon.com|ip_5|session_85|1420070415552|user_7|\n",
      "| viewed|campaign_20| 133|       google.com|ip_9|session_69|1420070416416|user_7|\n",
      "+-------+-----------+----+-----------------+----+----------+-------------+------+\n",
      "\n"
     ]
    }
   ],
   "source": [
    "clickstreamDF.show()"
   ]
  },
  {
   "cell_type": "markdown",
   "metadata": {},
   "source": [
    "### Query and Filter Operations\n",
    "\n",
    "Let us see how to do some query and filter operations"
   ]
  },
  {
   "cell_type": "code",
   "execution_count": 28,
   "metadata": {
    "collapsed": false,
    "scrolled": true
   },
   "outputs": [
    {
     "name": "stdout",
     "output_type": "stream",
     "text": [
      "+-------+-----------+----+-----------------+----+----------+-------------+------+\n",
      "| action|   campaign|cost|           domain|  ip|   session|    timestamp|  user|\n",
      "+-------+-----------+----+-----------------+----+----------+-------------+------+\n",
      "|clicked|campaign_19| 118|      youtube.com|ip_4|session_36|1420070400000|user_9|\n",
      "|blocked|campaign_18| 110|    wikipedia.org|ip_5|session_55|1420070402592|user_6|\n",
      "|blocked| campaign_9| 139|          cnn.com|ip_8|session_13|1420070404320|user_7|\n",
      "|blocked| campaign_4| 171|   funnyordie.com|ip_1|session_92|1420070405184|user_9|\n",
      "|blocked|campaign_19| 147|      nytimes.com|ip_2|session_65|1420070407776|user_6|\n",
      "|clicked|campaign_16| 141|    wikipedia.org|ip_1|session_57|1420070409504|user_1|\n",
      "|blocked| campaign_9| 153|       google.com|ip_3|session_22|1420070413824|user_9|\n",
      "|blocked| campaign_8| 140|comedycentral.com|ip_8| session_4|1420070414688|user_2|\n",
      "| viewed|campaign_20| 133|       google.com|ip_9|session_69|1420070416416|user_7|\n",
      "+-------+-----------+----+-----------------+----+----------+-------------+------+\n",
      "\n"
     ]
    }
   ],
   "source": [
    "clickstreamDF.filter(\"cost > 100\").show()"
   ]
  },
  {
   "cell_type": "code",
   "execution_count": 29,
   "metadata": {
    "collapsed": false
   },
   "outputs": [
    {
     "name": "stdout",
     "output_type": "stream",
     "text": [
      "+-------+-----------+----+-----------------+----+----------+-------------+------+\n",
      "| action|   campaign|cost|           domain|  ip|   session|    timestamp|  user|\n",
      "+-------+-----------+----+-----------------+----+----------+-------------+------+\n",
      "|clicked|campaign_19| 118|      youtube.com|ip_4|session_36|1420070400000|user_9|\n",
      "|clicked| campaign_3|  54|sf.craigslist.org|ip_9|session_61|1420070401728|user_8|\n",
      "|clicked| campaign_6|  15|comedycentral.com|ip_9|session_49|1420070403456|user_4|\n",
      "|clicked|campaign_16| 141|    wikipedia.org|ip_1|session_57|1420070409504|user_1|\n",
      "|clicked| campaign_5|  74|       sfgate.com|ip_6|session_27|1420070412096|user_3|\n",
      "+-------+-----------+----+-----------------+----+----------+-------------+------+\n",
      "\n"
     ]
    }
   ],
   "source": [
    "clickstreamDF.filter(\"action == 'clicked'\").show()"
   ]
  },
  {
   "cell_type": "code",
   "execution_count": 30,
   "metadata": {
    "collapsed": false
   },
   "outputs": [
    {
     "name": "stdout",
     "output_type": "stream",
     "text": [
      "+-----------------+-----+\n",
      "|           domain|count|\n",
      "+-----------------+-----+\n",
      "|      nytimes.com|    1|\n",
      "|      youtube.com|    2|\n",
      "|        zynga.com|    1|\n",
      "|       google.com|    2|\n",
      "|        yahoo.com|    1|\n",
      "|     facebook.com|    1|\n",
      "|          cnn.com|    1|\n",
      "|    wikipedia.org|    3|\n",
      "|       sfgate.com|    1|\n",
      "|       amazon.com|    2|\n",
      "|   funnyordie.com|    1|\n",
      "|sf.craigslist.org|    2|\n",
      "|comedycentral.com|    2|\n",
      "+-----------------+-----+\n",
      "\n"
     ]
    }
   ],
   "source": [
    "clickstreamDF.groupBy(\"domain\").count().show()"
   ]
  },
  {
   "cell_type": "markdown",
   "metadata": {},
   "source": [
    "\n",
    "## STEP 7 : Joining Dataframes\n",
    "\n",
    "Let's load another data set `domain info`\n",
    "The data is in   `data/click-stream/domain-info.json`\n",
    "The data looks like this:\n",
    "\n",
    "```console\n",
    "\n",
    "    {\"domain\":\"amazon.com\",\"category\":\"SHOPPING\"}\n",
    "    {\"domain\":\"bbc.co.uk\",\"category\":\"NEWS\"}\n",
    "    {\"domain\":\"facebook.com\",\"category\":\"SOCIAL\"}\n",
    "    ...\n",
    "```"
   ]
  },
  {
   "cell_type": "code",
   "execution_count": 31,
   "metadata": {
    "collapsed": false
   },
   "outputs": [
    {
     "name": "stdout",
     "output_type": "stream",
     "text": [
      "+-----------+-----------------+\n",
      "|   category|           domain|\n",
      "+-----------+-----------------+\n",
      "|   SHOPPING|       amazon.com|\n",
      "|       NEWS|        bbc.co.uk|\n",
      "|     SOCIAL|     facebook.com|\n",
      "|      PHOTO|       flickr.com|\n",
      "|       NEWS|      foxnews.com|\n",
      "|     SEARCH|       google.com|\n",
      "|       NEWS|          npr.org|\n",
      "|       NEWS|      nytimes.com|\n",
      "|CLASSIFIEDS|sf.craigslist.org|\n",
      "|       NEWS|       sfgate.com|\n",
      "|     SOCIAL|      twitter.com|\n",
      "|       NEWS|     usatoday.com|\n",
      "|  REFERENCE|    wikipedia.org|\n",
      "|     SEARCH|        yahoo.com|\n",
      "|      VIDEO|      youtube.com|\n",
      "+-----------+-----------------+\n",
      "\n"
     ]
    }
   ],
   "source": [
    "domainsDF = spark.read.json(\"../../data/click-stream/domain-info.json\")\n",
    "domainsDF.show()"
   ]
  },
  {
   "cell_type": "code",
   "execution_count": 32,
   "metadata": {
    "collapsed": false,
    "scrolled": false
   },
   "outputs": [
    {
     "name": "stdout",
     "output_type": "stream",
     "text": [
      "+-------+-----------+----+-----------------+----+----------+-------------+------+-----------+-----------------+\n",
      "| action|   campaign|cost|           domain|  ip|   session|    timestamp|  user|   category|           domain|\n",
      "+-------+-----------+----+-----------------+----+----------+-------------+------+-----------+-----------------+\n",
      "|clicked|campaign_19| 118|      youtube.com|ip_4|session_36|1420070400000|user_9|      VIDEO|      youtube.com|\n",
      "|blocked|campaign_12|   5|     facebook.com|ip_3|session_96|1420070400864|user_5|     SOCIAL|     facebook.com|\n",
      "|clicked| campaign_3|  54|sf.craigslist.org|ip_9|session_61|1420070401728|user_8|CLASSIFIEDS|sf.craigslist.org|\n",
      "|blocked|campaign_18| 110|    wikipedia.org|ip_5|session_55|1420070402592|user_6|  REFERENCE|    wikipedia.org|\n",
      "|blocked|campaign_17|  20|       amazon.com|ip_4|session_13|1420070406048|user_1|   SHOPPING|       amazon.com|\n",
      "|blocked|campaign_19| 147|      nytimes.com|ip_2|session_65|1420070407776|user_6|       NEWS|      nytimes.com|\n",
      "| viewed| campaign_5|  50|    wikipedia.org|ip_5|session_10|1420070408640|user_6|  REFERENCE|    wikipedia.org|\n",
      "|clicked|campaign_16| 141|    wikipedia.org|ip_1|session_57|1420070409504|user_1|  REFERENCE|    wikipedia.org|\n",
      "| viewed|campaign_19|   0|sf.craigslist.org|ip_9|session_19|1420070410368|user_7|CLASSIFIEDS|sf.craigslist.org|\n",
      "| viewed| campaign_1|  24|        yahoo.com|ip_4|session_60|1420070411232|user_8|     SEARCH|        yahoo.com|\n",
      "|clicked| campaign_5|  74|       sfgate.com|ip_6|session_27|1420070412096|user_3|       NEWS|       sfgate.com|\n",
      "|blocked| campaign_2|   7|      youtube.com|ip_2|session_93|1420070412960|user_1|      VIDEO|      youtube.com|\n",
      "|blocked| campaign_9| 153|       google.com|ip_3|session_22|1420070413824|user_9|     SEARCH|       google.com|\n",
      "|blocked|campaign_19|  23|       amazon.com|ip_5|session_85|1420070415552|user_7|   SHOPPING|       amazon.com|\n",
      "| viewed|campaign_20| 133|       google.com|ip_9|session_69|1420070416416|user_7|     SEARCH|       google.com|\n",
      "+-------+-----------+----+-----------------+----+----------+-------------+------+-----------+-----------------+\n",
      "\n"
     ]
    }
   ],
   "source": [
    "# Let's do an inner join\n",
    "\n",
    "from pyspark.sql.functions import *\n",
    "\n",
    "joined = clickstreamDF.join(domainsDF, clickstreamDF['domain'] == domainsDF['domain'])\n",
    "joined.show()"
   ]
  },
  {
   "cell_type": "code",
   "execution_count": 33,
   "metadata": {
    "collapsed": false
   },
   "outputs": [
    {
     "name": "stdout",
     "output_type": "stream",
     "text": [
      "+-------+-----------+----+-------------+----+----------+-------------+------+---------+-------------+\n",
      "| action|   campaign|cost|       domain|  ip|   session|    timestamp|  user| category|       domain|\n",
      "+-------+-----------+----+-------------+----+----------+-------------+------+---------+-------------+\n",
      "|blocked|campaign_19| 147|  nytimes.com|ip_2|session_65|1420070407776|user_6|     NEWS|  nytimes.com|\n",
      "|clicked|campaign_19| 118|  youtube.com|ip_4|session_36|1420070400000|user_9|    VIDEO|  youtube.com|\n",
      "|blocked| campaign_2|   7|  youtube.com|ip_2|session_93|1420070412960|user_1|    VIDEO|  youtube.com|\n",
      "|blocked|campaign_20|  78|    zynga.com|ip_5|session_36|1420070406912|user_3|     null|         null|\n",
      "|blocked| campaign_9| 153|   google.com|ip_3|session_22|1420070413824|user_9|   SEARCH|   google.com|\n",
      "| viewed|campaign_20| 133|   google.com|ip_9|session_69|1420070416416|user_7|   SEARCH|   google.com|\n",
      "|   null|       null|null|         null|null|      null|         null|  null|     NEWS| usatoday.com|\n",
      "| viewed| campaign_1|  24|    yahoo.com|ip_4|session_60|1420070411232|user_8|   SEARCH|    yahoo.com|\n",
      "|blocked|campaign_12|   5| facebook.com|ip_3|session_96|1420070400864|user_5|   SOCIAL| facebook.com|\n",
      "|blocked| campaign_9| 139|      cnn.com|ip_8|session_13|1420070404320|user_7|     null|         null|\n",
      "|blocked|campaign_18| 110|wikipedia.org|ip_5|session_55|1420070402592|user_6|REFERENCE|wikipedia.org|\n",
      "| viewed| campaign_5|  50|wikipedia.org|ip_5|session_10|1420070408640|user_6|REFERENCE|wikipedia.org|\n",
      "|clicked|campaign_16| 141|wikipedia.org|ip_1|session_57|1420070409504|user_1|REFERENCE|wikipedia.org|\n",
      "|   null|       null|null|         null|null|      null|         null|  null|     NEWS|    bbc.co.uk|\n",
      "|   null|       null|null|         null|null|      null|         null|  null|     NEWS|  foxnews.com|\n",
      "|clicked| campaign_5|  74|   sfgate.com|ip_6|session_27|1420070412096|user_3|     NEWS|   sfgate.com|\n",
      "|   null|       null|null|         null|null|      null|         null|  null|     NEWS|      npr.org|\n",
      "|   null|       null|null|         null|null|      null|         null|  null|   SOCIAL|  twitter.com|\n",
      "|blocked|campaign_17|  20|   amazon.com|ip_4|session_13|1420070406048|user_1| SHOPPING|   amazon.com|\n",
      "|blocked|campaign_19|  23|   amazon.com|ip_5|session_85|1420070415552|user_7| SHOPPING|   amazon.com|\n",
      "+-------+-----------+----+-------------+----+----------+-------------+------+---------+-------------+\n",
      "only showing top 20 rows\n",
      "\n"
     ]
    }
   ],
   "source": [
    "# Let's do an outer join.\n",
    "\n",
    "joinedOuter = clickstreamDF.join(domainsDF, clickstreamDF['domain'] == domainsDF['domain'], 'outer')\n",
    "joinedOuter.show()"
   ]
  },
  {
   "cell_type": "code",
   "execution_count": null,
   "metadata": {
    "collapsed": true
   },
   "outputs": [],
   "source": []
  }
 ],
 "metadata": {
  "kernelspec": {
   "display_name": "Python 3",
   "language": "python",
   "name": "python3"
  },
  "language_info": {
   "codemirror_mode": {
    "name": "ipython",
    "version": 3
   },
   "file_extension": ".py",
   "mimetype": "text/x-python",
   "name": "python",
   "nbconvert_exporter": "python",
   "pygments_lexer": "ipython3",
   "version": "3.6.0"
  }
 },
 "nbformat": 4,
 "nbformat_minor": 0
}
